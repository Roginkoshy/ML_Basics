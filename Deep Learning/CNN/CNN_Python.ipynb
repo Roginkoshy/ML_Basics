{
 "cells": [
  {
   "cell_type": "code",
   "execution_count": 1,
   "metadata": {},
   "outputs": [
    {
     "name": "stderr",
     "output_type": "stream",
     "text": [
      "C:\\Users\\dell\\Anaconda3\\lib\\site-packages\\h5py\\__init__.py:34: FutureWarning: Conversion of the second argument of issubdtype from `float` to `np.floating` is deprecated. In future, it will be treated as `np.float64 == np.dtype(float).type`.\n",
      "  from ._conv import register_converters as _register_converters\n",
      "Using TensorFlow backend.\n",
      "C:\\Users\\dell\\Anaconda3\\lib\\site-packages\\ipykernel_launcher.py:25: UserWarning: Update your `Conv2D` call to the Keras 2 API: `Conv2D(32, (3, 3), input_shape=(64, 64, 3..., activation=\"relu\")`\n",
      "C:\\Users\\dell\\Anaconda3\\lib\\site-packages\\ipykernel_launcher.py:31: UserWarning: Update your `Conv2D` call to the Keras 2 API: `Conv2D(32, (3, 3), activation=\"relu\")`\n",
      "C:\\Users\\dell\\Anaconda3\\lib\\site-packages\\ipykernel_launcher.py:38: UserWarning: Update your `Dense` call to the Keras 2 API: `Dense(activation=\"relu\", units=128)`\n",
      "C:\\Users\\dell\\Anaconda3\\lib\\site-packages\\ipykernel_launcher.py:39: UserWarning: Update your `Dense` call to the Keras 2 API: `Dense(activation=\"sigmoid\", units=1)`\n"
     ]
    },
    {
     "name": "stdout",
     "output_type": "stream",
     "text": [
      "Found 8000 images belonging to 2 classes.\n",
      "Found 2000 images belonging to 2 classes.\n"
     ]
    },
    {
     "name": "stderr",
     "output_type": "stream",
     "text": [
      "C:\\Users\\dell\\Anaconda3\\lib\\site-packages\\ipykernel_launcher.py:69: UserWarning: The semantics of the Keras 2 argument `steps_per_epoch` is not the same as the Keras 1 argument `samples_per_epoch`. `steps_per_epoch` is the number of batches to draw from the generator at each epoch. Basically steps_per_epoch = samples_per_epoch/batch_size. Similarly `nb_val_samples`->`validation_steps` and `val_samples`->`steps` arguments have changed. Update your method calls accordingly.\n",
      "C:\\Users\\dell\\Anaconda3\\lib\\site-packages\\ipykernel_launcher.py:69: UserWarning: Update your `fit_generator` call to the Keras 2 API: `fit_generator(<keras_pre..., validation_data=<keras_pre..., steps_per_epoch=250, epochs=25, validation_steps=2000)`\n"
     ]
    },
    {
     "name": "stdout",
     "output_type": "stream",
     "text": [
      "Epoch 1/25\n",
      "250/250 [==============================] - 592s 2s/step - loss: 0.6782 - acc: 0.5615 - val_loss: 0.6122 - val_acc: 0.6715\n",
      "Epoch 2/25\n",
      "250/250 [==============================] - 358s 1s/step - loss: 0.6086 - acc: 0.6636 - val_loss: 0.5753 - val_acc: 0.7066\n",
      "Epoch 3/25\n",
      "250/250 [==============================] - 428s 2s/step - loss: 0.5699 - acc: 0.7054 - val_loss: 0.5497 - val_acc: 0.7326\n",
      "Epoch 4/25\n",
      "250/250 [==============================] - 373s 1s/step - loss: 0.5404 - acc: 0.7274 - val_loss: 0.5225 - val_acc: 0.7414\n",
      "Epoch 5/25\n",
      "250/250 [==============================] - 344s 1s/step - loss: 0.5199 - acc: 0.7372 - val_loss: 0.5628 - val_acc: 0.7268\n",
      "Epoch 6/25\n",
      "250/250 [==============================] - 341s 1s/step - loss: 0.4999 - acc: 0.7587 - val_loss: 0.4820 - val_acc: 0.7761\n",
      "Epoch 7/25\n",
      "250/250 [==============================] - 341s 1s/step - loss: 0.4856 - acc: 0.7649 - val_loss: 0.4881 - val_acc: 0.7768\n",
      "Epoch 8/25\n",
      "250/250 [==============================] - 343s 1s/step - loss: 0.4865 - acc: 0.7679 - val_loss: 0.4729 - val_acc: 0.7779\n",
      "Epoch 9/25\n",
      "250/250 [==============================] - 342s 1s/step - loss: 0.4684 - acc: 0.7786 - val_loss: 0.5058 - val_acc: 0.7599\n",
      "Epoch 10/25\n",
      "250/250 [==============================] - 342s 1s/step - loss: 0.4521 - acc: 0.7837 - val_loss: 0.4553 - val_acc: 0.7916\n",
      "Epoch 11/25\n",
      "250/250 [==============================] - 364s 1s/step - loss: 0.4418 - acc: 0.7918 - val_loss: 0.5264 - val_acc: 0.7689\n",
      "Epoch 12/25\n",
      "250/250 [==============================] - 349s 1s/step - loss: 0.4337 - acc: 0.7955 - val_loss: 0.4658 - val_acc: 0.7972\n",
      "Epoch 13/25\n",
      "250/250 [==============================] - 353s 1s/step - loss: 0.4246 - acc: 0.8041 - val_loss: 0.4449 - val_acc: 0.7961\n",
      "Epoch 14/25\n",
      "250/250 [==============================] - 375s 2s/step - loss: 0.4173 - acc: 0.8085 - val_loss: 0.4397 - val_acc: 0.8052\n",
      "Epoch 15/25\n",
      "250/250 [==============================] - 373s 1s/step - loss: 0.4095 - acc: 0.8125 - val_loss: 0.4465 - val_acc: 0.7978\n",
      "Epoch 16/25\n",
      "250/250 [==============================] - 371s 1s/step - loss: 0.4001 - acc: 0.8179 - val_loss: 0.4464 - val_acc: 0.7949\n",
      "Epoch 17/25\n",
      "250/250 [==============================] - 366s 1s/step - loss: 0.3880 - acc: 0.8257 - val_loss: 0.4292 - val_acc: 0.8069\n",
      "Epoch 18/25\n",
      "250/250 [==============================] - 2724s 11s/step - loss: 0.3795 - acc: 0.8264 - val_loss: 0.4336 - val_acc: 0.8066\n",
      "Epoch 19/25\n",
      "250/250 [==============================] - 365s 1s/step - loss: 0.3759 - acc: 0.8304 - val_loss: 0.4452 - val_acc: 0.8095\n",
      "Epoch 20/25\n",
      "250/250 [==============================] - 368s 1s/step - loss: 0.3705 - acc: 0.8348 - val_loss: 0.4404 - val_acc: 0.8013\n",
      "Epoch 21/25\n",
      "250/250 [==============================] - 366s 1s/step - loss: 0.3604 - acc: 0.8376 - val_loss: 0.4424 - val_acc: 0.8030\n",
      "Epoch 22/25\n",
      "250/250 [==============================] - 366s 1s/step - loss: 0.3599 - acc: 0.8389 - val_loss: 0.4805 - val_acc: 0.7850\n",
      "Epoch 23/25\n",
      "250/250 [==============================] - 362s 1s/step - loss: 0.3460 - acc: 0.8423 - val_loss: 0.4931 - val_acc: 0.7828\n",
      "Epoch 24/25\n",
      "250/250 [==============================] - 364s 1s/step - loss: 0.3408 - acc: 0.8516 - val_loss: 0.4593 - val_acc: 0.7951\n",
      "Epoch 25/25\n",
      "250/250 [==============================] - 388s 2s/step - loss: 0.3320 - acc: 0.8556 - val_loss: 0.4368 - val_acc: 0.8101\n"
     ]
    },
    {
     "data": {
      "text/plain": [
       "<keras.callbacks.History at 0x1456bd30>"
      ]
     },
     "execution_count": 1,
     "metadata": {},
     "output_type": "execute_result"
    }
   ],
   "source": [
    "# Convolutional Neural Network\n",
    "\n",
    "# Installing Theano\n",
    "# pip install --upgrade --no-deps git+git://github.com/Theano/Theano.git\n",
    "\n",
    "# Installing Tensorflow\n",
    "# Install Tensorflow from the website: https://www.tensorflow.org/versions/r0.12/get_started/os_setup.html\n",
    "\n",
    "# Installing Keras\n",
    "# pip install --upgrade keras\n",
    "\n",
    "# Part 1 - Building the CNN\n",
    "\n",
    "# Importing the Keras libraries and packages\n",
    "from keras.models import Sequential\n",
    "from keras.layers import Convolution2D\n",
    "from keras.layers import MaxPooling2D\n",
    "from keras.layers import Flatten\n",
    "from keras.layers import Dense\n",
    "\n",
    "# Initialising the CNN\n",
    "classifier = Sequential()\n",
    "\n",
    "# Step 1 - Convolution\n",
    "classifier.add(Convolution2D(32, 3, 3, input_shape = (64, 64, 3), activation = 'relu'))\n",
    "\n",
    "# Step 2 - Pooling\n",
    "classifier.add(MaxPooling2D(pool_size = (2, 2)))\n",
    "\n",
    "# Adding a second convolutional layer\n",
    "classifier.add(Convolution2D(32, 3, 3, activation = 'relu'))\n",
    "classifier.add(MaxPooling2D(pool_size = (2, 2)))\n",
    "\n",
    "# Step 3 - Flattening\n",
    "classifier.add(Flatten())\n",
    "\n",
    "# Step 4 - Full connection\n",
    "classifier.add(Dense(output_dim = 128, activation = 'relu'))\n",
    "classifier.add(Dense(output_dim = 1, activation = 'sigmoid'))\n",
    "\n",
    "# Compiling the CNN\n",
    "classifier.compile(optimizer = 'adam', loss = 'binary_crossentropy', metrics = ['accuracy'])\n",
    "\n",
    "# Part 2 - Fitting the CNN to the images\n",
    "\n",
    "from keras.preprocessing.image import ImageDataGenerator\n",
    "\n",
    "train_datagen = ImageDataGenerator(rescale = 1./255,\n",
    "                                   shear_range = 0.2,\n",
    "                                   zoom_range = 0.2,\n",
    "                                   horizontal_flip = True)\n",
    "\n",
    "test_datagen = ImageDataGenerator(rescale = 1./255)\n",
    "\n",
    "training_set = train_datagen.flow_from_directory('dataset/training_set',\n",
    "                                                 target_size = (64, 64),\n",
    "                                                 batch_size = 32,\n",
    "                                                 class_mode = 'binary')\n",
    "\n",
    "test_set = test_datagen.flow_from_directory('dataset/test_set',\n",
    "                                            target_size = (64, 64),\n",
    "                                            batch_size = 32,\n",
    "                                            class_mode = 'binary')\n",
    "\n",
    "classifier.fit_generator(training_set,\n",
    "                         samples_per_epoch = 8000,\n",
    "                         nb_epoch = 25,\n",
    "                         validation_data = test_set,\n",
    "                         nb_val_samples = 2000)"
   ]
  },
  {
   "cell_type": "code",
   "execution_count": null,
   "metadata": {
    "collapsed": true
   },
   "outputs": [],
   "source": []
  }
 ],
 "metadata": {
  "kernelspec": {
   "display_name": "Python 3",
   "language": "python",
   "name": "python3"
  },
  "language_info": {
   "codemirror_mode": {
    "name": "ipython",
    "version": 3
   },
   "file_extension": ".py",
   "mimetype": "text/x-python",
   "name": "python",
   "nbconvert_exporter": "python",
   "pygments_lexer": "ipython3",
   "version": "3.6.3"
  }
 },
 "nbformat": 4,
 "nbformat_minor": 2
}
